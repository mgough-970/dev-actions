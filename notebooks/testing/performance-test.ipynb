{
 "cells": [
  {
   "cell_type": "markdown",
   "id": "fa89040e",
   "metadata": {},
   "source": [
    "# Performance Test Notebook\n",
    "\n",
    "This notebook is designed to test performance and resource usage.\n",
    "It includes operations that can be benchmarked for optimization."
   ]
  },
  {
   "cell_type": "code",
   "execution_count": 1,
   "id": "7b846cd3",
   "metadata": {
    "execution": {
     "iopub.execute_input": "2025-06-29T21:32:59.864776Z",
     "iopub.status.busy": "2025-06-29T21:32:59.864615Z",
     "iopub.status.idle": "2025-06-29T21:33:00.115594Z",
     "shell.execute_reply": "2025-06-29T21:33:00.114774Z"
    }
   },
   "outputs": [
    {
     "name": "stdout",
     "output_type": "stream",
     "text": [
      "Performance test started at: 2025-06-29 17:33:00.112421\n"
     ]
    }
   ],
   "source": [
    "import time\n",
    "import numpy as np\n",
    "import pandas as pd\n",
    "from datetime import datetime\n",
    "\n",
    "start_time = time.time()\n",
    "print(f\"Performance test started at: {datetime.now()}\")"
   ]
  },
  {
   "cell_type": "code",
   "execution_count": 2,
   "id": "b0c35a4e",
   "metadata": {
    "execution": {
     "iopub.execute_input": "2025-06-29T21:33:00.118123Z",
     "iopub.status.busy": "2025-06-29T21:33:00.117893Z",
     "iopub.status.idle": "2025-06-29T21:33:00.188187Z",
     "shell.execute_reply": "2025-06-29T21:33:00.187609Z"
    }
   },
   "outputs": [
    {
     "name": "stdout",
     "output_type": "stream",
     "text": [
      "🔄 Test 1: Large array operations\n",
      "✅ Array operations completed in 0.066 seconds\n",
      "   Result mean: 0.607244, std: 1.277341\n"
     ]
    }
   ],
   "source": [
    "# Performance test 1: Large array operations\n",
    "print(\"🔄 Test 1: Large array operations\")\n",
    "test1_start = time.time()\n",
    "\n",
    "# Create large arrays\n",
    "size = 1000000\n",
    "arr1 = np.random.randn(size)\n",
    "arr2 = np.random.randn(size)\n",
    "\n",
    "# Perform operations\n",
    "result = arr1 * arr2 + np.sin(arr1) + np.cos(arr2)\n",
    "mean_result = np.mean(result)\n",
    "std_result = np.std(result)\n",
    "\n",
    "test1_time = time.time() - test1_start\n",
    "print(f\"✅ Array operations completed in {test1_time:.3f} seconds\")\n",
    "print(f\"   Result mean: {mean_result:.6f}, std: {std_result:.6f}\")"
   ]
  },
  {
   "cell_type": "code",
   "execution_count": 3,
   "id": "88b8280d",
   "metadata": {
    "execution": {
     "iopub.execute_input": "2025-06-29T21:33:00.190352Z",
     "iopub.status.busy": "2025-06-29T21:33:00.190078Z",
     "iopub.status.idle": "2025-06-29T21:33:00.225918Z",
     "shell.execute_reply": "2025-06-29T21:33:00.225259Z"
    }
   },
   "outputs": [
    {
     "name": "stdout",
     "output_type": "stream",
     "text": [
      "\n",
      "🔄 Test 2: DataFrame operations\n",
      "✅ DataFrame operations completed in 0.031 seconds\n",
      "   DataFrame shape: (100000, 6)\n",
      "   Grouped results shape: (3, 5)\n"
     ]
    }
   ],
   "source": [
    "# Performance test 2: DataFrame operations\n",
    "print(\"\\n🔄 Test 2: DataFrame operations\")\n",
    "test2_start = time.time()\n",
    "\n",
    "# Create large DataFrame\n",
    "n_rows = 100000\n",
    "df = pd.DataFrame({\n",
    "    'A': np.random.randn(n_rows),\n",
    "    'B': np.random.randn(n_rows),\n",
    "    'C': np.random.choice(['X', 'Y', 'Z'], n_rows),\n",
    "    'D': np.random.randint(1, 100, n_rows)\n",
    "})\n",
    "\n",
    "# Perform operations\n",
    "df['E'] = df['A'] * df['B']\n",
    "df['F'] = df['D'].rolling(window=10).mean()\n",
    "grouped = df.groupby('C').agg({\n",
    "    'A': ['mean', 'std'],\n",
    "    'B': ['min', 'max'],\n",
    "    'D': 'sum'\n",
    "})\n",
    "\n",
    "test2_time = time.time() - test2_start\n",
    "print(f\"✅ DataFrame operations completed in {test2_time:.3f} seconds\")\n",
    "print(f\"   DataFrame shape: {df.shape}\")\n",
    "print(f\"   Grouped results shape: {grouped.shape}\")"
   ]
  },
  {
   "cell_type": "code",
   "execution_count": 4,
   "id": "09f158ba",
   "metadata": {
    "execution": {
     "iopub.execute_input": "2025-06-29T21:33:00.228770Z",
     "iopub.status.busy": "2025-06-29T21:33:00.228371Z",
     "iopub.status.idle": "2025-06-29T21:33:00.233749Z",
     "shell.execute_reply": "2025-06-29T21:33:00.232688Z"
    }
   },
   "outputs": [
    {
     "name": "stdout",
     "output_type": "stream",
     "text": [
      "\n",
      "🔄 Test 3: Memory usage check\n",
      "✅ Current memory usage: 188.95 MB\n",
      "   Memory after cleanup: 166.05 MB\n"
     ]
    }
   ],
   "source": [
    "# Performance test 3: Memory usage check\n",
    "print(\"\\n🔄 Test 3: Memory usage check\")\n",
    "import psutil\n",
    "import os\n",
    "\n",
    "process = psutil.Process(os.getpid())\n",
    "memory_mb = process.memory_info().rss / 1024 / 1024\n",
    "\n",
    "print(f\"✅ Current memory usage: {memory_mb:.2f} MB\")\n",
    "\n",
    "# Clean up large objects\n",
    "del arr1, arr2, result, df, grouped\n",
    "\n",
    "memory_after_mb = process.memory_info().rss / 1024 / 1024\n",
    "print(f\"   Memory after cleanup: {memory_after_mb:.2f} MB\")"
   ]
  },
  {
   "cell_type": "code",
   "execution_count": 5,
   "id": "a98445b4",
   "metadata": {
    "execution": {
     "iopub.execute_input": "2025-06-29T21:33:00.235938Z",
     "iopub.status.busy": "2025-06-29T21:33:00.235568Z",
     "iopub.status.idle": "2025-06-29T21:33:00.239549Z",
     "shell.execute_reply": "2025-06-29T21:33:00.238957Z"
    }
   },
   "outputs": [
    {
     "name": "stdout",
     "output_type": "stream",
     "text": [
      "\n",
      "🎯 Performance Test Summary\n",
      "======================================\n",
      "Total execution time: 0.125 seconds\n",
      "Test 1 (Array ops): 0.066 seconds\n",
      "Test 2 (DataFrame ops): 0.031 seconds\n",
      "Peak memory usage: 188.95 MB\n",
      "Final memory usage: 166.05 MB\n",
      "🚀 Excellent performance (< 10s)\n",
      "\n",
      "✅ Performance test completed successfully!\n"
     ]
    }
   ],
   "source": [
    "# Performance summary\n",
    "total_time = time.time() - start_time\n",
    "print(f\"\\n🎯 Performance Test Summary\")\n",
    "print(f\"======================================\")\n",
    "print(f\"Total execution time: {total_time:.3f} seconds\")\n",
    "print(f\"Test 1 (Array ops): {test1_time:.3f} seconds\")\n",
    "print(f\"Test 2 (DataFrame ops): {test2_time:.3f} seconds\")\n",
    "print(f\"Peak memory usage: {memory_mb:.2f} MB\")\n",
    "print(f\"Final memory usage: {memory_after_mb:.2f} MB\")\n",
    "\n",
    "# Performance benchmarks\n",
    "if total_time < 10:\n",
    "    print(\"🚀 Excellent performance (< 10s)\")\n",
    "elif total_time < 30:\n",
    "    print(\"✅ Good performance (< 30s)\")\n",
    "else:\n",
    "    print(\"⏰ Consider optimization (> 30s)\")\n",
    "\n",
    "print(\"\\n✅ Performance test completed successfully!\")"
   ]
  },
  {
   "cell_type": "markdown",
   "id": "081239a3",
   "metadata": {},
   "source": [
    "## Performance Test Results\n",
    "\n",
    "This notebook measures:\n",
    "- ⏱️ Execution time for different operations\n",
    "- 💾 Memory usage and cleanup\n",
    "- 🚀 Performance optimization insights\n",
    "\n",
    "Use this notebook to:\n",
    "- Benchmark CI/CD pipeline performance\n",
    "- Test resource usage limits\n",
    "- Validate optimization improvements"
   ]
  }
 ],
 "metadata": {
  "language_info": {
   "codemirror_mode": {
    "name": "ipython",
    "version": 3
   },
   "file_extension": ".py",
   "mimetype": "text/x-python",
   "name": "python",
   "nbconvert_exporter": "python",
   "pygments_lexer": "ipython3",
   "version": "3.9.13"
  }
 },
 "nbformat": 4,
 "nbformat_minor": 5
}
